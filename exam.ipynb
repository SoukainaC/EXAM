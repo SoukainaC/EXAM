{
 "cells": [
  {
   "cell_type": "markdown",
   "metadata": {
    "id": "LJrNQui1NvA_"
   },
   "source": [
    "<p><font size=\"6\"><b>Examen Versionning de code et Programmation Python: Implémentation de fonction mathématiques et intégration à Github</b></font></p>\n",
    "\n",
    "\n",
    "> \n",
    "\n",
    "\n",
    "\n",
    "---"
   ]
  },
  {
   "cell_type": "code",
   "execution_count": 59,
   "metadata": {
    "colab": {
     "base_uri": "https://localhost:8080/",
     "height": 92
    },
    "executionInfo": {
     "elapsed": 59,
     "status": "ok",
     "timestamp": 1634558053137,
     "user": {
      "displayName": "Yacine ASLIMI",
      "photoUrl": "https://lh3.googleusercontent.com/a/default-user=s64",
      "userId": "17203730376393528118"
     },
     "user_tz": -120
    },
    "id": "mMbl3He1NvBf",
    "outputId": "66e9d7e4-5d2e-4cab-f69e-624f3c03335c",
    "run_control": {
     "frozen": false,
     "read_only": false
    }
   },
   "outputs": [],
   "source": [
    "import numpy as np\n",
    "def Polynome(list,value):\n",
    "    return(np.polyval(list,value ))"
   ]
  },
  {
   "cell_type": "code",
   "execution_count": 60,
   "metadata": {
    "colab": {
     "base_uri": "https://localhost:8080/",
     "height": 99
    },
    "executionInfo": {
     "elapsed": 814,
     "status": "ok",
     "timestamp": 1634558053904,
     "user": {
      "displayName": "Yacine ASLIMI",
      "photoUrl": "https://lh3.googleusercontent.com/a/default-user=s64",
      "userId": "17203730376393528118"
     },
     "user_tz": -120
    },
    "id": "Bn9vC_gINvB8",
    "outputId": "8f9b2013-c39f-490e-bd48-84e7f2e93747"
   },
   "outputs": [
    {
     "data": {
      "text/plain": [
       "62.5"
      ]
     },
     "execution_count": 60,
     "metadata": {},
     "output_type": "execute_result"
    }
   ],
   "source": [
    "list = [1, -1.5, -6, 5]\n",
    "Polynome(list,5)"
   ]
  },
  {
   "cell_type": "markdown",
   "metadata": {
    "id": "XktZm6XTQWZA"
   },
   "source": [
    "Implémenter la fonction factorielle (Approche récursive ou classique)"
   ]
  },
  {
   "cell_type": "code",
   "execution_count": 66,
   "metadata": {
    "colab": {
     "base_uri": "https://localhost:8080/",
     "height": 0
    },
    "executionInfo": {
     "elapsed": 876,
     "status": "ok",
     "timestamp": 1634558102017,
     "user": {
      "displayName": "Yacine ASLIMI",
      "photoUrl": "https://lh3.googleusercontent.com/a/default-user=s64",
      "userId": "17203730376393528118"
     },
     "user_tz": -120
    },
    "id": "UgS524N2QSfq",
    "outputId": "83f0ceac-7b86-4a84-d314-d90c3db73295"
   },
   "outputs": [
    {
     "name": "stdout",
     "output_type": "stream",
     "text": [
      "Entrez un nombre: 4\n",
      "Factorielle de 4 est:  24\n"
     ]
    }
   ],
   "source": [
    "def factorielle(n):\n",
    "    if n == 1:\n",
    "        return n\n",
    "    else:\n",
    "        return n * factorielle(n - 1)\n",
    "# Demande à l'utilisateur d'entrer un nombre\n",
    "n = int(input(\"Entrez un nombre: \"))\n",
    "if n < 0:\n",
    "    print(\"Factoriel ne peut être trouvé pour les nombres négatifs\")\n",
    "elif n == 0:\n",
    "    print(\"Factorielle de 0 est 1\")\n",
    "else:\n",
    "    print(\"Factorielle de\", n, \"est: \", factorielle(n))\n",
    "\n",
    "    "
   ]
  },
  {
   "cell_type": "markdown",
   "metadata": {
    "id": "nirZJmFkNvB_"
   },
   "source": [
    "Implémenter la suite de Fibonnaci"
   ]
  },
  {
   "cell_type": "code",
   "execution_count": 65,
   "metadata": {
    "colab": {
     "base_uri": "https://localhost:8080/",
     "height": 0
    },
    "executionInfo": {
     "elapsed": 418,
     "status": "ok",
     "timestamp": 1634558188388,
     "user": {
      "displayName": "Yacine ASLIMI",
      "photoUrl": "https://lh3.googleusercontent.com/a/default-user=s64",
      "userId": "17203730376393528118"
     },
     "user_tz": -120
    },
    "id": "7ju3HVP9NvCM",
    "outputId": "e7bd3535-5ada-4d14-8a31-65d83d607339",
    "run_control": {
     "frozen": false,
     "read_only": false
    }
   },
   "outputs": [
    {
     "name": "stdout",
     "output_type": "stream",
     "text": [
      "Entrez un nombre: 5\n",
      "\n",
      " la suite fibonacci est :\n",
      "0 , 1, 1, 2, 3, "
     ]
    }
   ],
   "source": [
    "entre = int(input(\"Entrez un nombre: \"))\n",
    "v1 = 0\n",
    "v2 = 1\n",
    "print(\"\\n la suite fibonacci est :\")\n",
    "print(v1, \",\", v2, end=\", \")\n",
    " \n",
    "for i in range(2, entre):\n",
    "  suivant = v1 + v2\n",
    "  print(suivant, end=\", \")\n",
    " \n",
    "  v1 = v2\n",
    "  v2 = suivant"
   ]
  },
  {
   "cell_type": "code",
   "execution_count": 77,
   "metadata": {},
   "outputs": [
    {
     "ename": "IndentationError",
     "evalue": "unindent does not match any outer indentation level (<tokenize>, line 13)",
     "output_type": "error",
     "traceback": [
      "\u001b[1;36m  File \u001b[1;32m\"<tokenize>\"\u001b[1;36m, line \u001b[1;32m13\u001b[0m\n\u001b[1;33m    a=float(a)\u001b[0m\n\u001b[1;37m    ^\u001b[0m\n\u001b[1;31mIndentationError\u001b[0m\u001b[1;31m:\u001b[0m unindent does not match any outer indentation level\n"
     ]
    }
   ],
   "source": [
    "#Création de fonction comportant des modules de gestions des exceptions \n",
    "from math import *\n",
    "\n",
    "def factor():\n",
    "    while True:\n",
    "            try:\n",
    "                \n",
    "                a=input(\"Entrer la valeur de a ?\")\n",
    "            \n",
    "                if('j' in a):\n",
    "                     print(\"nombre valide, ce n'est pas complex\")\n",
    "                \n",
    "                   a=float(a)\n",
    "            except ValueError:\n",
    "                if(type(a)==str):\n",
    "                     print(\"nombre valide, ce n'est pas Srting\")\n",
    "                    \n",
    "                print(\"Entrer un entier ou un float\")\n",
    "                continue\n",
    "                  if  0.5 <= a <= 100 :\n",
    "                break\n",
    "                  elif 0.5 <= a < 0.5 :\n",
    "                print (\"entrez un grand nombre\")\n",
    "                  elif a < 0 :\n",
    "                print (\"entrez un nombre positif\")\n",
    "                  elif a > 100 :\n",
    "                print (\"entrez un petit nombre\")\n",
    "                  elif a == 1 :\n",
    "                return a\n",
    "                  else \n",
    "                return a * factorielle(a - 1)     \n",
    "   \n",
    "\n"
   ]
  },
  {
   "cell_type": "code",
   "execution_count": 63,
   "metadata": {},
   "outputs": [],
   "source": [
    "#Question Bonus : Implémentation de la formule Pricer d’option avec Python\n",
    "from math import log, sqrt, pi, exp\n",
    "from scipy.stats import norm\n",
    "from datetime import datetime, date\n",
    "import numpy as np\n",
    "\n",
    "\n",
    "def d1(S,X,T,r,sigma):\n",
    "    return(log(S/X)+(r+sigma**2/2.)*T)/(sigma*sqrt(T))\n",
    "def d2(S,X,T,r,sigma):\n",
    "    return d1(S,X,T,r,sigma)-sigma*sqrt(T)"
   ]
  },
  {
   "cell_type": "code",
   "execution_count": 64,
   "metadata": {
    "colab": {
     "base_uri": "https://localhost:8080/",
     "height": 0
    },
    "executionInfo": {
     "elapsed": 402,
     "status": "ok",
     "timestamp": 1634558194794,
     "user": {
      "displayName": "Yacine ASLIMI",
      "photoUrl": "https://lh3.googleusercontent.com/a/default-user=s64",
      "userId": "17203730376393528118"
     },
     "user_tz": -120
    },
    "id": "C5oGNbLnNvCQ",
    "outputId": "25f784e7-1705-4504-c40e-27a978a9be22"
   },
   "outputs": [],
   "source": [
    "def relation_C(S,X,T,r,sigma):\n",
    "    return S*norm.cdf(d1(S,X,T,r,sigma))-X*exp(-r*T)*norm.cdf(d2(S,X,T,r,sigma))\n",
    "  \n",
    "def relation_p(S,X,T,r,sigma):\n",
    "    return X*exp(-r*T)-S+bs_call(S,X,T,r,sigma)"
   ]
  },
  {
   "cell_type": "code",
   "execution_count": null,
   "metadata": {},
   "outputs": [],
   "source": []
  }
 ],
 "metadata": {
  "colab": {
   "name": "00-jupyter_introduction (3)-Copy1.ipynb",
   "provenance": []
  },
  "kernelspec": {
   "display_name": "Python 3",
   "language": "python",
   "name": "python3"
  },
  "language_info": {
   "codemirror_mode": {
    "name": "ipython",
    "version": 3
   },
   "file_extension": ".py",
   "mimetype": "text/x-python",
   "name": "python",
   "nbconvert_exporter": "python",
   "pygments_lexer": "ipython3",
   "version": "3.8.8"
  },
  "nav_menu": {},
  "toc": {
   "navigate_menu": true,
   "number_sections": true,
   "sideBar": true,
   "threshold": 6,
   "toc_cell": false,
   "toc_section_display": "block",
   "toc_window_display": true
  },
  "toc_position": {
   "height": "860px",
   "left": "0px",
   "right": "1568px",
   "top": "106px",
   "width": "301px"
  }
 },
 "nbformat": 4,
 "nbformat_minor": 1
}
